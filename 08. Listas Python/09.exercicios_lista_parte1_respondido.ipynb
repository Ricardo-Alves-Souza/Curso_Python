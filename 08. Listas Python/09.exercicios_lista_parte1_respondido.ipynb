{
 "cells": [
  {
   "cell_type": "markdown",
   "metadata": {},
   "source": [
    "# Exercícios\n",
    "\n",
    "## 1. Faturamento do Melhor e do Pior Mês do Ano\n",
    "\n",
    "Qual foi o valor de vendas do melhor mês do Ano?\n",
    "E valor do pior mês do ano?"
   ]
  },
  {
   "cell_type": "code",
   "execution_count": null,
   "metadata": {},
   "outputs": [],
   "source": [
    "meses = ['jan', 'fev', 'mar', 'abr', 'mai', 'jun', 'jul', 'ago', 'set', 'out', 'nov', 'dez']\n",
    "vendas_1sem = [25000, 29000, 22200, 17750, 15870, 19900]\n",
    "vendas_2sem = [19850, 20120, 17540, 15555, 49051, 9650]\n",
    "\n",
    "vendas_ano = vendas_1sem + vendas_2sem\n",
    "\n",
    "maior_valor = max(vendas_ano)\n",
    "menor_valor = min(vendas_ano)\n",
    "\n",
    "maior_venda_ano = meses[vendas_ano.index(maior_valor)]\n",
    "menor_venda_ano = meses[vendas_ano.index(menor_valor)]\n",
    "\n",
    "print(f'O mês de {maior_venda_ano} teve a maior valor em vendas, com ${maior_valor:,}.')\n",
    "print(f'O mês de {menor_venda_ano} teve a menor valor em vendas, com ${menor_valor:,}.')"
   ]
  },
  {
   "cell_type": "markdown",
   "metadata": {},
   "source": [
    "## 2. Continuação\n",
    "\n",
    "Agora relacione as duas listas para printar 'O melhor mês do ano foi {} com {} vendas' e o mesmo para o pior mês do ano.\n",
    "\n",
    "Calcule também o faturamento total do Ano e quanto que o melhor mês representou do faturamento total.\n",
    "\n",
    "Obs: Para o faturamento total, pode usar a função sum(lista) que soma todos os itens de uma lista"
   ]
  },
  {
   "cell_type": "code",
   "execution_count": null,
   "metadata": {},
   "outputs": [],
   "source": [
    "meses = ['jan', 'fev', 'mar', 'abr', 'mai', 'jun', 'jul', 'ago', 'set', 'out', 'nov', 'dez']\n",
    "vendas_1sem = [25000, 29000, 22200, 17750, 15870, 19900]\n",
    "vendas_2sem = [19850, 20120, 17540, 15555, 49051, 9650]\n",
    "\n",
    "vendas_ano = vendas_1sem + vendas_2sem\n",
    "\n",
    "maior_valor = max(vendas_ano)\n",
    "menor_valor = min(vendas_ano)\n",
    "\n",
    "maior_venda_ano = meses[vendas_ano.index(maior_valor)]\n",
    "menor_venda_ano = meses[vendas_ano.index(menor_valor)]\n",
    "\n",
    "total_vendas_ano = sum(vendas_ano)\n",
    "\n",
    "percentual_maior_valor = maior_valor / total_vendas_ano\n",
    "percentual_menor_valor = menor_valor / total_vendas_ano\n",
    "\n",
    "print(f'O faturamento total do ano foi de ${total_vendas_ano:,}.')\n",
    "print(f'O mês de {maior_venda_ano} teve a maior valor em vendas, com ${maior_valor:>6,}. Representando {percentual_maior_valor:.1%} do faturamento anual.')\n",
    "print(f'O mês de {menor_venda_ano} teve a menor valor em vendas, com ${menor_valor:>6,}. Representando {percentual_menor_valor:.1%} do faturamento anual.')\n"
   ]
  },
  {
   "cell_type": "markdown",
   "metadata": {},
   "source": [
    "## 3. Crie uma lista com o top 3 valores de vendas do ano (sem fazer \"no olho\")\n",
    "\n",
    "Dica: o método remove retira um item da lista."
   ]
  },
  {
   "cell_type": "code",
   "execution_count": null,
   "metadata": {},
   "outputs": [],
   "source": [
    "vendas_1sem = [25000, 29000, 22200, 17750, 15870, 19900]\n",
    "vendas_2sem = [19850, 20120, 17540, 15555, 49051, 9650]\n",
    "\n",
    "vendas_ano = vendas_1sem + vendas_2sem\n",
    "\n",
    "top3 = []\n",
    "vendas_ano.sort(reverse=True)\n",
    "top3.append(vendas_ano[0])\n",
    "top3.append(vendas_ano[1])\n",
    "top3.append(vendas_ano[2])\n",
    "\n",
    "print(top3)"
   ]
  }
 ],
 "metadata": {
  "kernelspec": {
   "display_name": "Python 3",
   "language": "python",
   "name": "python3"
  },
  "language_info": {
   "codemirror_mode": {
    "name": "ipython",
    "version": 3
   },
   "file_extension": ".py",
   "mimetype": "text/x-python",
   "name": "python",
   "nbconvert_exporter": "python",
   "pygments_lexer": "ipython3",
   "version": "3.12.2"
  }
 },
 "nbformat": 4,
 "nbformat_minor": 4
}
