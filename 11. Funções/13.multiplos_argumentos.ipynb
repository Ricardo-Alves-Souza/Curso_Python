{
 "cells": [
  {
   "cell_type": "markdown",
   "metadata": {},
   "source": [
    "# Quantidade Indefinidas de Argumentos\n",
    "\n",
    "### Utilidade:\n",
    "\n",
    "Quando você quer permitir uma quantidade indefinida de argumentos, usa o * para isso.\n",
    "\n",
    "### Estrutura:"
   ]
  },
  {
   "cell_type": "raw",
   "metadata": {},
   "source": [
    "*args para positional arguments -> argumentos vêm em formato de tupla\n",
    "\n",
    "def minha_funcao(*args):\n",
    "    ...\n",
    "\n",
    "\n",
    "**kwargs para keyword arguments -> argumentos vêm em formato de dicionário\n",
    "\n",
    "def minha_funcao(**kwargs):\n",
    "    ..."
   ]
  },
  {
   "cell_type": "code",
   "execution_count": null,
   "metadata": {},
   "outputs": [],
   "source": [
    "def minha_soma(*numeros):\n",
    "\n",
    "    ''' Recebe uma quantidade indefinida de números e retorna a soma\n",
    "\n",
    "    Parameters:\n",
    "        *numeros (float): numeros a serem somados\n",
    "    \n",
    "    Returns:\n",
    "        soma (float): retorna a soma dos números\n",
    "    '''\n",
    "\n",
    "    print(numeros)\n",
    "    soma = 0\n",
    "    for numero in numeros:\n",
    "        soma += numero\n",
    "    return soma"
   ]
  },
  {
   "cell_type": "code",
   "execution_count": null,
   "metadata": {},
   "outputs": [],
   "source": [
    "minha_soma(5, 7, 9, 8, 10, 9)\n",
    "\n"
   ]
  },
  {
   "cell_type": "code",
   "execution_count": null,
   "metadata": {},
   "outputs": [],
   "source": [
    "def preco_final(preco, **adicionais):\n",
    "    \n",
    "    ''' Calcula o preço de um produto com base nos parementros fornecidos\n",
    "\n",
    "    Parameters:\n",
    "        preco (float) : Valor original do produto\n",
    "\n",
    "        **adicionais (str) : Recebe como paramentros os valores \"desconto\", \"garantia_extra\", \"imposto\"\n",
    "\n",
    "    Returns:\n",
    "        preco (float) : Retorna o valor final depois de todos os descontos passados pelos paramentros\n",
    "\n",
    "    \n",
    "    '''\n",
    "\n",
    "    if 'desconto' in adicionais:\n",
    "        preco *= (1 - adicionais['desconto'])\n",
    "    if 'garantia_extra' in adicionais:\n",
    "        preco += adicionais['garantia_extra'] \n",
    "    if 'imposto' in adicionais:\n",
    "        preco *= (1 + adicionais['imposto'])\n",
    "    return preco\n",
    "\n"
   ]
  },
  {
   "cell_type": "code",
   "execution_count": null,
   "metadata": {},
   "outputs": [],
   "source": [
    "preco_final(1500, desconto=0.5)"
   ]
  }
 ],
 "metadata": {
  "kernelspec": {
   "display_name": "Python 3",
   "language": "python",
   "name": "python3"
  },
  "language_info": {
   "codemirror_mode": {
    "name": "ipython",
    "version": 3
   },
   "file_extension": ".py",
   "mimetype": "text/x-python",
   "name": "python",
   "nbconvert_exporter": "python",
   "pygments_lexer": "ipython3",
   "version": "3.12.2"
  }
 },
 "nbformat": 4,
 "nbformat_minor": 4
}
