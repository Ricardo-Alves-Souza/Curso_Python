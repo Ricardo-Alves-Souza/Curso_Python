{
 "cells": [
  {
   "cell_type": "markdown",
   "id": "a2fee89b",
   "metadata": {},
   "source": [
    "### Forma de pensar"
   ]
  },
  {
   "cell_type": "code",
   "execution_count": null,
   "id": "1be9db7d",
   "metadata": {},
   "outputs": [],
   "source": [
    "# Top -> Down\n",
    "\n",
    "# Exemplo simples: atravessar a rua"
   ]
  },
  {
   "cell_type": "markdown",
   "id": "672e10e0",
   "metadata": {},
   "source": [
    "### Exemplo de Exercício do Curso"
   ]
  },
  {
   "cell_type": "markdown",
   "id": "fee80189",
   "metadata": {},
   "source": [
    "#### 23. Faça um Programa para uma loja de tintas. O programa deverá pedir o tamanho em metros quadrados da área a ser pintada. Considere que a cobertura da tinta é de 1 litro para cada 6 metros quadrados e que a tinta é vendida em latas de 18 litros, que custam R\\\\$ 80,00 ou em galões de 3,6 litros, que custam R\\\\$ 25,00."
   ]
  },
  {
   "cell_type": "code",
   "execution_count": null,
   "id": "14d07741",
   "metadata": {},
   "outputs": [],
   "source": [
    "def calcular_qtde_tinta (area, tamanho='galao'):\n",
    "    qtde_litros = area / 6\n",
    "    \n",
    "    if tamanho == 'lata':\n",
    "        produto = 'Latas'\n",
    "        preco_lata = 80\n",
    "        qtde_litros_lata = 18\n",
    "\n",
    "        qtde_latas = int(qtde_litros // qtde_litros_lata)\n",
    "        if (qtde_litros % qtde_litros_lata) > 0:\n",
    "            qtde_latas += 1\n",
    "\n",
    "    elif tamanho == 'galao':\n",
    "        produto = 'Galões'\n",
    "        preco_lata = 25\n",
    "        qtde_litros_lata = 3.6\n",
    "\n",
    "        qtde_latas = int(qtde_litros // qtde_litros_lata)\n",
    "        if (qtde_litros % qtde_litros_lata) > 0:\n",
    "            qtde_latas += 1\n",
    "\n",
    "    valor_total = preco_lata * qtde_latas\n",
    "    print(f'Para pintar {area}M² será necessário {qtde_litros:.1f} litros de tinta.')\n",
    "    print(f'Quantidade de {produto}: {qtde_latas}, valor total: R${valor_total}.')\n",
    "    return "
   ]
  },
  {
   "cell_type": "markdown",
   "id": "0d5fa10a",
   "metadata": {},
   "source": [
    "##### Informe ao usuário as quantidades de tinta a serem compradas e os respectivos preços em 3 situações.\n",
    "\n",
    "Dica: lembre dos operadores // e % mostrados em exercícios anteriores<br>\n",
    "Dica1: numero // 10 vai te dar como resposta a parte inteira da divisão do número por 10. Ex: 7 // 3 = 2; 10 // 3 = 3<br> \n",
    "Dica2: numero % 10 vai te dar o resto da divisão do número por 10. Ex: 7 % 3 = 1; 10 % 3 = 1; 15 % 3 = 0\n",
    "\n",
    "##### 1. Comprar apenas latas de 18 litros: (apenas latas inteiras)"
   ]
  },
  {
   "cell_type": "code",
   "execution_count": null,
   "id": "bc38cdcd",
   "metadata": {},
   "outputs": [],
   "source": [
    "try:\n",
    "    area = float(input('Escreva qual a área a ser pintada (m²): '))\n",
    "except:\n",
    "    print('Valor Inválido!')\n",
    "else:\n",
    "    calcular_qtde_tinta(area, tamanho='lata')"
   ]
  },
  {
   "cell_type": "markdown",
   "id": "15dc7322",
   "metadata": {},
   "source": [
    "##### 2. Comprar apenas galões de 3,6 litros: (apenas galoes inteiros)"
   ]
  },
  {
   "cell_type": "code",
   "execution_count": null,
   "id": "6e0a01af",
   "metadata": {},
   "outputs": [],
   "source": [
    "try:\n",
    "    area = float(input('Escreva qual a área a ser pintada (m²): '))\n",
    "except:\n",
    "    print('Valor Inválido!')\n",
    "else:\n",
    "    calcular_qtde_tinta(area)"
   ]
  },
  {
   "cell_type": "markdown",
   "id": "35e0aa11",
   "metadata": {},
   "source": [
    "##### 3. Misturar latas e galões, de forma que o desperdício de tinta seja menor. Sempre arredonde os valores para cima, isto é, considere latas cheias."
   ]
  },
  {
   "cell_type": "markdown",
   "id": "95a3d342",
   "metadata": {},
   "source": [
    "O custo da lata é 80/18 = 4,44 R\\\\$/L\n",
    "\n",
    "O custo do galão é 25/3,6 = 6,94 R\\\\$/L\n",
    "\n",
    "A lata é mais econômica, então todas as latas inteiras que pudermos usar devemos comprar em latas. Se ficar faltando alguma coisa para completar devemos avaliar se é melhor comprar latas ou galões. Exemplo:\n",
    "\n",
    "Se queremos comprar 90 litros. 5 latas dão exatamente 90 litros. Então devemos comprar tudo em latas.\n",
    "\n",
    "Se queremos comprar 95 litros. 5 latas dão exatamente 90 litros. Então devemos comprar pelo menos 5 latas e avaliar o que falta, se estes últimos 5 litros valem mais apenas em latas ou galões.\n",
    "\n",
    "Para os 5 litros faltantes precisamos de 2 galões que custam 50 reais no total. Ou de uma lata que custa 80 reais no total. Portanto, neste caso vale mais a pena usar 2 galões.\n",
    "\n",
    "Se queremos comprar 107 litros. 5 latas dão exatamente 90 litros. Então devemos comprar pelo menos 5 latas e avaliar o que falta, se estes últimos 5 litros valem mais apenas em latas ou galões.\n",
    "\n",
    "Para os 17 litros faltantes precisamos de 5 galões que custam 125 reais no total. Ou de uma lata que custa 80 reais no total. Portanto, neste caso vale mais a pena usar uma lata.\n",
    "\n",
    "3 galões custam 75 reais, 4 galões custam 100 reais. Então, se for possível completar com até 3 galões escolhe-se galões. Qualquer quantidade maior que 3 galões, usa-se latas.\n",
    "\n",
    "Podemos ir ao exercício:"
   ]
  },
  {
   "cell_type": "code",
   "execution_count": null,
   "id": "82c1322c",
   "metadata": {},
   "outputs": [],
   "source": [
    "def calcular_qtde_tinta(litros, qtde_produto):\n",
    "    qtde = int(litros / qtde_produto)\n",
    "    resto = litros % qtde_produto\n",
    "    return qtde, resto\n",
    "\n",
    "def calcular_valo_total(qtde_lata, qtde_galao):\n",
    "    # Define o valor dos produtos\n",
    "    valor_lata = 80\n",
    "    valor_galao = 25\n",
    "\n",
    "    if qtde_lata == 0:\n",
    "        total = qtde_galao * valor_galao\n",
    "        print(f'Quantidade de Galão: {qtde_galao} unidades \\nValor total: R${total}')\n",
    "    else: \n",
    "        total = (qtde_galao * valor_galao) + (qtde_lata * valor_lata)\n",
    "        print(f'Quantidade de Latas: {qtde_lata} unidades \\nQuantidade de Galão: {qtde_galao} unidades \\nValor total: R${total}')\n",
    "    return\n",
    "\n",
    "def calcular_area(area):\n",
    "    # Total de litros de tinta necessário para pintar toda a área\n",
    "    total_litros_tinta = area / 6\n",
    "\n",
    "    # Define o tamanho dos produtos\n",
    "    tamanho_lata = 18\n",
    "    tamanho_galao = 3.6\n",
    "\n",
    "    # Variáveis de apoio para calcular quantidade final de Latas e Galões\n",
    "    qtde_lata = 0 \n",
    "    qtde_galao = 0\n",
    "\n",
    "    # Verifica se o total de litros de tinta é maior que o tamanho da lata de 18 litros.\n",
    "    if total_litros_tinta > tamanho_lata:\n",
    "        qtde_lata, resto_lata = calcular_qtde_tinta(total_litros_tinta, tamanho_lata)\n",
    "\n",
    "        if resto_lata > 0:\n",
    "            qtde_galao, resto_galao = calcular_qtde_tinta(resto_lata, tamanho_galao)\n",
    "            if resto_galao > 0:\n",
    "                qtde_galao += 1\n",
    "\n",
    "    # Caso o total de litros seja menor que 18 litros, o programa calculará apenas com as latas de 3.6 litros.\n",
    "    else: \n",
    "        qtde_galao, resto_galao = calcular_qtde_tinta(total_litros_tinta, tamanho_galao)\n",
    "        if resto_galao > 0:\n",
    "            qtde_galao += 1\n",
    "    \n",
    "    print(f'Litros de tinta: {total_litros_tinta:.1f}')\n",
    "    return calcular_valo_total(qtde_lata, qtde_galao)"
   ]
  },
  {
   "cell_type": "code",
   "execution_count": null,
   "id": "76e06d54",
   "metadata": {},
   "outputs": [],
   "source": [
    "try:\n",
    "    area = float(input('Escreva qual a área a ser pintada (m²): '))\n",
    "except:\n",
    "    print('Valor Inválido!')\n",
    "else:\n",
    "    calcular_area(area)"
   ]
  }
 ],
 "metadata": {
  "kernelspec": {
   "display_name": "Python 3 (ipykernel)",
   "language": "python",
   "name": "python3"
  },
  "language_info": {
   "codemirror_mode": {
    "name": "ipython",
    "version": 3
   },
   "file_extension": ".py",
   "mimetype": "text/x-python",
   "name": "python",
   "nbconvert_exporter": "python",
   "pygments_lexer": "ipython3",
   "version": "3.12.2"
  }
 },
 "nbformat": 4,
 "nbformat_minor": 5
}
