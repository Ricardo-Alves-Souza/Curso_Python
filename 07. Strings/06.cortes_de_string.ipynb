{
 "cells": [
  {
   "cell_type": "markdown",
   "id": "4e5fa91b",
   "metadata": {},
   "source": [
    "### Forma Básica"
   ]
  },
  {
   "cell_type": "code",
   "execution_count": null,
   "id": "fba45682",
   "metadata": {},
   "outputs": [],
   "source": [
    "precos = \"Jan: 25, Fev: 27, Mar: 29\"\n",
    "\n",
    "print(precos[:7])"
   ]
  },
  {
   "cell_type": "code",
   "execution_count": null,
   "id": "429b5b11",
   "metadata": {},
   "outputs": [],
   "source": [
    "precos_split = precos.split(',')\n",
    "print(precos_split[0])"
   ]
  },
  {
   "cell_type": "markdown",
   "id": "afe5dc17",
   "metadata": {},
   "source": [
    "### Posição Inicial e Final"
   ]
  },
  {
   "cell_type": "code",
   "execution_count": null,
   "id": "c3488405",
   "metadata": {},
   "outputs": [],
   "source": [
    "precos = \"Jan: 25, Fev: 27, Mar: 29\"\n",
    "print(precos[:7])\n",
    "print(precos[9:-9])\n",
    "print(precos[-7:])"
   ]
  },
  {
   "cell_type": "code",
   "execution_count": null,
   "id": "f2db2194",
   "metadata": {},
   "outputs": [],
   "source": [
    "precos = \"Jan: 25, Fev: 27, Mar: 29\"\n",
    "precos_split = precos.split(',')\n",
    "print(precos_split[0])\n",
    "print(precos_split[1].strip())\n",
    "print(precos_split[-1].strip())"
   ]
  },
  {
   "cell_type": "markdown",
   "id": "bca6dfd4",
   "metadata": {},
   "source": [
    "### Posição Inicial e Final com Step"
   ]
  },
  {
   "cell_type": "code",
   "execution_count": null,
   "id": "981224c2",
   "metadata": {},
   "outputs": [],
   "source": [
    "codigo = \"1.2.3.4,5,1,2.3.4,7.9\"\n",
    "\n",
    "pedaco_cod = codigo[::2]\n",
    "print(pedaco_cod)"
   ]
  },
  {
   "cell_type": "code",
   "execution_count": null,
   "id": "2cd60f1d",
   "metadata": {},
   "outputs": [],
   "source": [
    "codigo = \"1.2.3.4,5,1,2.3.4,7.9\"\n",
    "\n",
    "pedaco_cod = codigo[::-2]\n",
    "print(pedaco_cod)"
   ]
  }
 ],
 "metadata": {
  "kernelspec": {
   "display_name": "Python 3 (ipykernel)",
   "language": "python",
   "name": "python3"
  },
  "language_info": {
   "codemirror_mode": {
    "name": "ipython",
    "version": 3
   },
   "file_extension": ".py",
   "mimetype": "text/x-python",
   "name": "python",
   "nbconvert_exporter": "python",
   "pygments_lexer": "ipython3",
   "version": "3.12.2"
  }
 },
 "nbformat": 4,
 "nbformat_minor": 5
}
