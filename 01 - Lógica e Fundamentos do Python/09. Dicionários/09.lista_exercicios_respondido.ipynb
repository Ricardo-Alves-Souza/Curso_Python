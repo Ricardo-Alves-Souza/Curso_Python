{
 "cells": [
  {
   "cell_type": "markdown",
   "metadata": {},
   "source": [
    "### Exercício 1\n",
    "Crie um sistema de consulta de preços\n",
    "Seu sistema deve:\n",
    "- Pedir para o usuário o nome de um produto\n",
    "- Caso o produto exista na lista de produtos, o programa deve retornar o preço do produto como resposta\n",
    "       - Ex: O produto celular custa R$1500\n",
    "- Caso o produto não exista na lista de produtos, o programa deve printar uma mensagem para o usuário tentar novamente\n"
   ]
  },
  {
   "cell_type": "code",
   "execution_count": null,
   "metadata": {},
   "outputs": [],
   "source": [
    "precos = {\"celular\": 1500, \"camera\": 1000, \"fone de ouvido\": 800, \"monitor\": 2000}\n",
    "\n",
    "produto = str(input('Produto: ')).strip().casefold()\n",
    "\n",
    "if produto in precos:\n",
    "    print(f'Preço de {produto}: R${precos[produto]}')\n",
    "else:\n",
    "    print(f'Produto {produto} não encontrado!')"
   ]
  },
  {
   "cell_type": "markdown",
   "metadata": {},
   "source": [
    "\n",
    "### Exercício 2\n",
    "Agora edite o programa anterior para fazer com que, caso não exista o produto, o programa pergunte se o usuário quer cadastrar o produto\n",
    "<br>Se ele responder sim, o programa deve pedir o nome do produto e o preco do produto e cadastrar no dicionário de preços\n",
    "<br>Em seguida do cadastro bem sucedido, o programa deve printar o dicionário de precos atualizado\n"
   ]
  },
  {
   "cell_type": "code",
   "execution_count": null,
   "metadata": {},
   "outputs": [],
   "source": [
    "precos = {\"celular\": 1500, \"camera\": 1000, \"fone de ouvido\": 800, \"monitor\": 2000}\n",
    "\n",
    "produto = str(input('Produto: ')).strip().casefold()\n",
    "\n",
    "if produto in precos:\n",
    "    print(f'Preço de {produto} : R${precos[produto]}')\n",
    "else:\n",
    "    cadastrar = str(input(f'O produto \"{produto}\" não existe na lista, deseja cadastrar? ')).strip().casefold()\n",
    "    if cadastrar == 'sim' or cadastrar == 's':\n",
    "        preco = int(input(f'Qual o valor de {produto}? '))\n",
    "        precos[produto] = preco\n",
    "        print(precos)\n",
    " "
   ]
  },
  {
   "cell_type": "markdown",
   "metadata": {},
   "source": [
    "### Exercício 3\n",
    "Dada a lista de preços de produtos, uma loja resolveu fazer um reajuste nos preços dos produtos. \n",
    "calcule o novo valor dos produtos com base nas seguintes regras:\n",
    "- Preços até 1.000 vão ter um reajuste de 10% (ou seja, o novo preço será 110% do preço atual)\n",
    "- Preços até maiores que 1.000 até 2.000 vão ter reajuste de 15%\n",
    "- Preços acima de 2.000 vão ter reajuste de 20%"
   ]
  },
  {
   "cell_type": "code",
   "execution_count": null,
   "metadata": {},
   "outputs": [],
   "source": [
    "precos = {\"celular\": 1500, \"camera\": 1000, \"fone de ouvido\": 800, \"monitor\": 3000}\n",
    "\n",
    "for produto, valor in precos.items():\n",
    "    if valor > 2000:\n",
    "        novo_valor = int(valor * 1.20)\n",
    "    elif valor > 1000:\n",
    "        novo_valor = int(valor * 1.15)\n",
    "    else:\n",
    "        novo_valor = int(valor * 1.10)\n",
    "\n",
    "    precos[produto] = novo_valor\n",
    "\n",
    "print(precos)\n"
   ]
  },
  {
   "cell_type": "markdown",
   "metadata": {},
   "source": [
    "### Exercício 4\n",
    " - Edite o programa antigo para ter os 2 dicionários, o de preços originais e o de novos preços\n",
    " - Em seguida calcule o valor total de reajuste em R$ que teve entre a lista de produtos original e a lista final\n"
   ]
  },
  {
   "cell_type": "code",
   "execution_count": null,
   "metadata": {},
   "outputs": [],
   "source": [
    "precos = {\"celular\": 1500, \"camera\": 1000, \"fone de ouvido\": 800, \"monitor\": 3000}\n",
    "novos_precos = {}\n",
    "\n",
    "total_reajuste = 0\n",
    "for produto, valor in precos.items():\n",
    "    if valor > 2000:\n",
    "        novo_valor = int(valor * 1.20)\n",
    "    elif valor > 1000:\n",
    "        novo_valor = int(valor * 1.15)\n",
    "    else:\n",
    "        novo_valor = int(valor * 1.10)\n",
    "\n",
    "    novos_precos[produto] = novo_valor\n",
    "    total_reajuste += novo_valor - valor\n",
    "\n",
    "print(precos)\n",
    "print(novos_precos)\n",
    "print(f'Total de Reajuste: R${total_reajuste}')"
   ]
  },
  {
   "cell_type": "markdown",
   "metadata": {},
   "source": [
    "\n",
    "### Exercício 5\n",
    "- Uma empresa está analisando os resultados de vendas do 1º semestre de 2022 e 2023\n",
    "- Qual foi o % de crescimento de cada mês de 2023 em relação a 2022?\n",
    "- Depois de calcular isso, calcule o valor total de crescimento de 2023 em relação a 2022"
   ]
  },
  {
   "cell_type": "code",
   "execution_count": null,
   "metadata": {},
   "outputs": [],
   "source": [
    "vendas_22 = {\"jan\": 15000, \"fev\": 15500, \"mar\": 14000, \"abr\": 16600, \"mai\": 16300, \"jun\": 17000}\n",
    "vendas_23 = {\"jan\": 17000, \"fev\": 15000, \"mar\": 17500, \"abr\": 16900, \"mai\": 16000, \"jun\": 18500}\n",
    "\n",
    "for mes in vendas_22:\n",
    "    valor_2022 = vendas_22[mes]\n",
    "    valor_2023 = vendas_23[mes]\n",
    "    percentual = valor_2023 / valor_2022 - 1\n",
    "    print(f\"Em {mes}, a variação percentual foi de: {percentual:.1%}\")\n",
    "\n",
    "total_22 = sum(vendas_22.values())\n",
    "total_23 = sum(vendas_23.values())\n",
    "crescimento = total_23 / total_22 - 1\n",
    "print(f\"Crescimento Real: {crescimento:.1%}\")"
   ]
  },
  {
   "cell_type": "markdown",
   "metadata": {},
   "source": [
    "### Exercício 6 - Desafio\n",
    "- No final da reunião de apresentação dos números, seu chefe perguntou:\n",
    "- E se nos meses de 2023 que a gente vendeu menos do que 2022 a gente tivesse pelo menos empatado com 2022 (ou seja, se nos meses de 2023 em que as vendas foram menores do que o mesmo mês em 2022, o valor de vendas tivesse sido igual a 2022)\n",
    "- Qual teria sido o nosso crescimento de 2023 frente a 2022?"
   ]
  },
  {
   "cell_type": "code",
   "execution_count": null,
   "metadata": {},
   "outputs": [],
   "source": [
    "for mes in vendas_23:\n",
    "    valor_22 = vendas_22[mes]\n",
    "    valor_23 = vendas_23[mes]\n",
    "    percentual = valor_23 / valor_22 - 1\n",
    "    \n",
    "    if percentual < 0:\n",
    "        vendas_23[mes] = valor_22\n",
    "    print(f\"Em {mes}, a variação percentual foi de: {percentual:.1%}\")\n",
    "\n",
    "total_22 = sum(vendas_22.values())\n",
    "total_23 = sum(vendas_23.values())\n",
    "crescimento = total_23 / total_22 - 1\n",
    "print(f\"Crescimento simulado: {crescimento:.1%}\")"
   ]
  }
 ],
 "metadata": {
  "kernelspec": {
   "display_name": "Python 3",
   "language": "python",
   "name": "python3"
  },
  "language_info": {
   "codemirror_mode": {
    "name": "ipython",
    "version": 3
   },
   "file_extension": ".py",
   "mimetype": "text/x-python",
   "name": "python",
   "nbconvert_exporter": "python",
   "pygments_lexer": "ipython3",
   "version": "3.12.2"
  }
 },
 "nbformat": 4,
 "nbformat_minor": 2
}
