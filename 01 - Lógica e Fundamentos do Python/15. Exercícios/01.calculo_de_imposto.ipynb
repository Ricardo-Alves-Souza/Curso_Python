{
 "cells": [
  {
   "cell_type": "markdown",
   "id": "677c85ea",
   "metadata": {},
   "source": [
    "### 1- Imposto a pagar no Lucro Presumido\n",
    "\n",
    "- 5% sobre faturamento de ISS (mensal)\n",
    "- 0,65% de PIS sobre faturamento, (mensal)\n",
    "- 3% de COFINS sobre faturmaneto, (mensal)\n",
    "- 4.8% de IR (trimestral)\n",
    "- 10% de IR Adicional sobre o que ultrapassar 20mil do faturamento (trimestral)\n",
    "- CSLL: 2,88% sobre faturamento (trimestral)"
   ]
  },
  {
   "cell_type": "code",
   "execution_count": null,
   "id": "aa56f2ec",
   "metadata": {},
   "outputs": [],
   "source": [
    "faturamento = {\n",
    "    'jan': 'R$ 95.141,98',\n",
    "    'fev': 'R$ 95.425,16',\n",
    "    'mar': 'R$ 89.716,31',\n",
    "    'abr': 'R$ 78.459,99',\n",
    "    'mai': 'R$ 71.087,28',\n",
    "    'jun': 'R$ 83.911,06',\n",
    "    'jul': 'R$ 56.467,26',\n",
    "    'ago': 'R$ 88.513,58',\n",
    "    'set': 'R$ 66.552,49',\n",
    "    'out': 'R$ 80.164,07',\n",
    "    'nov': 'R$ 66.964,33',\n",
    "    'dez': 'R$ 71.525,25',\n",
    "}\n",
    "\n",
    "# você precisa inserir no sistema um dicionário no formato:\n",
    "\n",
    "# resultado = {\n",
    "#     'mes': (faturamento, imposto_mensal, imposto_trimestral),\n",
    "# }"
   ]
  },
  {
   "cell_type": "code",
   "execution_count": null,
   "id": "ad973859",
   "metadata": {},
   "outputs": [],
   "source": [
    "def transformar_valor(valor):\n",
    "    valor = valor.replace('R$ ', '')\n",
    "    valor = valor.replace(' ', '')\n",
    "    valor = valor.replace('.', '')\n",
    "    valor = valor.replace(',', '.')\n",
    "    return float(valor)\n",
    "\n",
    "def calcular_imposto_mensal(valor):\n",
    "    iss = valor * 0.05\n",
    "    pis = valor * 0.0065\n",
    "    cofins = valor * 0.03\n",
    "    return iss + pis + cofins\n",
    "\n",
    "def calcular_imposto_trimestral(valor):\n",
    "    ir = valor * 0.048\n",
    "    csll = valor * 0.0288\n",
    "    ir_adicional = 0\n",
    "    if valor > 20000:\n",
    "        ir_adicional = (valor - 20000) * 0.1\n",
    "    return ir + ir_adicional + csll\n",
    "\n",
    "faturamento_impostos = {}\n",
    "\n",
    "for mes, valor in faturamento.items():\n",
    "    valor = transformar_valor(valor)\n",
    "    imposto_mensal = calcular_imposto_mensal(valor)\n",
    "    imposto_trimestral = calcular_imposto_trimestral(valor)\n",
    "    faturamento_impostos[mes] = (valor, imposto_mensal, imposto_trimestral)\n",
    "\n",
    "print(faturamento_impostos)"
   ]
  }
 ],
 "metadata": {
  "kernelspec": {
   "display_name": "Python 3 (ipykernel)",
   "language": "python",
   "name": "python3"
  },
  "language_info": {
   "codemirror_mode": {
    "name": "ipython",
    "version": 3
   },
   "file_extension": ".py",
   "mimetype": "text/x-python",
   "name": "python",
   "nbconvert_exporter": "python",
   "pygments_lexer": "ipython3",
   "version": "3.12.2"
  }
 },
 "nbformat": 4,
 "nbformat_minor": 5
}
