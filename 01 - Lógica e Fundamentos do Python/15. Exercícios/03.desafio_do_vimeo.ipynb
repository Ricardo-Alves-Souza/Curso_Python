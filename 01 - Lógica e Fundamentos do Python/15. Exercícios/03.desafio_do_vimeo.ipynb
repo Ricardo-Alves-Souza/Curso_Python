{
 "cells": [
  {
   "cell_type": "markdown",
   "id": "e9843750",
   "metadata": {},
   "source": [
    "### 3 - Extração dos links de Download de Vídeos do Vimeo\n",
    "\n",
    "- Precisamos pegar os links em 1080p, 720p e 540p para importar os vídeos para uma nova plataforma"
   ]
  },
  {
   "cell_type": "code",
   "execution_count": null,
   "id": "6c712a8f",
   "metadata": {},
   "outputs": [],
   "source": [
    "# para pegar o dicionario do vimeo, use:\n",
    "from dic import dicionario_vimeo\n",
    "import pprint\n",
    "\n",
    "# você precisa chegar em:\n",
    "# videos = [\n",
    "#     {'uri': video_uri, 'nome': nome_video, 'duracao': duracao, 'link540p': link540p, 'link720p': link720p, 'link1080p': link1080p},\n",
    "# ]\n",
    "\n",
    "dados = dicionario_vimeo['data'][1]\n",
    "uri_video = dados['uri']\n",
    "nome_video = dados['name']\n",
    "duracao_video = dados['duration']\n",
    "links = dados['download']\n",
    "\n",
    "\n",
    "pprint.pprint(links)\n",
    "#print(uri_video)\n"
   ]
  },
  {
   "cell_type": "code",
   "execution_count": null,
   "id": "eb744b51",
   "metadata": {},
   "outputs": [],
   "source": [
    "from dic import dicionario_vimeo\n",
    "import pprint\n",
    "\n",
    "\n",
    "def pegar_nome(nome):\n",
    "    return nome['name']\n",
    "\n",
    "def pegar_uri(uri):\n",
    "    return uri['uri']\n",
    "\n",
    "def pegar_duracao(duracao):\n",
    "    return duracao['duration']\n",
    "\n",
    "def pegar_links(links):\n",
    "    dados = links['download']\n",
    "    links = [[dados[i]['rendition'], dados[i]['link']] for i in range(len(dados))]\n",
    "    return links\n",
    "\n",
    "    \n",
    "\n",
    "videos = []\n",
    "dados = dicionario_vimeo['data']\n",
    "for item in dados:\n",
    "    video = {}\n",
    "    video['uri'] = pegar_uri(item)\n",
    "    video['nome'] = pegar_nome(item)\n",
    "    video['duracao'] = pegar_duracao(item)\n",
    "    video['links'] = pegar_links(item)\n",
    "    videos.append(video)\n",
    "\n",
    "for i in videos:\n",
    "    print(i)"
   ]
  }
 ],
 "metadata": {
  "kernelspec": {
   "display_name": "Python 3 (ipykernel)",
   "language": "python",
   "name": "python3"
  },
  "language_info": {
   "codemirror_mode": {
    "name": "ipython",
    "version": 3
   },
   "file_extension": ".py",
   "mimetype": "text/x-python",
   "name": "python",
   "nbconvert_exporter": "python",
   "pygments_lexer": "ipython3",
   "version": "3.12.2"
  }
 },
 "nbformat": 4,
 "nbformat_minor": 5
}
