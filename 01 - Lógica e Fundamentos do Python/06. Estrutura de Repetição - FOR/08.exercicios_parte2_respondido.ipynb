{
 "cells": [
  {
   "cell_type": "markdown",
   "metadata": {},
   "source": [
    "# Exercícios\n",
    "\n",
    "## 1. Calculando % de uma lista\n",
    "\n",
    "Faremos algo parecido com \"filtrar\" uma lista. Mais pra frente no curso aprenderemos outras formas de fazer isso, mas com o nosso conhecimentoa atual já conseguimos resolver o desafio.\n",
    "\n",
    "Digamos que a gente tenha uma lista de vendedores e ao invés de saber todos os vendedores que bateram a meta, eu quero conseguir calcular o % de vendedores que bateram a meta. Ou seja, se temos 10 vendedores e 3 bateram a meta, temos 30% dos vendedores que bateram a meta."
   ]
  },
  {
   "cell_type": "code",
   "execution_count": null,
   "metadata": {},
   "outputs": [],
   "source": [
    "meta = 10000\n",
    "vendas = [\n",
    "    ['João', 15000],\n",
    "    ['Julia', 27000],\n",
    "    ['Marcus', 9900],\n",
    "    ['Maria', 3750],\n",
    "    ['Ana', 10300],\n",
    "    ['Alon', 7870],\n",
    "]\n",
    "\n",
    "cont = 0\n",
    "for vendedor, venda in vendas:\n",
    "    if venda > meta:\n",
    "        cont += 1\n",
    "\n",
    "percentual_bateu_meta = cont / len(vendas)\n",
    "print(f'{percentual_bateu_meta:.0%} dos funcionários bateram a meta! ')"
   ]
  },
  {
   "cell_type": "markdown",
   "metadata": {},
   "source": [
    "- Vamos resolver de 2 formas:\n",
    "    1. Criando uma lista auxiliar apenas com os vendedores que bateram a meta\n",
    "    2. Fazendo o cálculo diretamente na lista que já temos"
   ]
  },
  {
   "cell_type": "markdown",
   "metadata": {},
   "source": [
    "## Para treinar uma estrutura parecida, crie um código para responder: quem foi o vendedor que mais vendeu?"
   ]
  },
  {
   "cell_type": "code",
   "execution_count": null,
   "metadata": {},
   "outputs": [],
   "source": [
    "meta = 10000\n",
    "vendas = [\n",
    "    ['João', 15000],\n",
    "    ['Julia', 27000],\n",
    "    ['Marcus', 9900],\n",
    "    ['Maria', 3750],\n",
    "    ['Ana', 10300],\n",
    "    ['Alon', 7870],\n",
    "]\n",
    "#seu código aqui\n",
    "\n",
    "vendedor = ''\n",
    "valor = 0\n",
    "for nome, qtde in vendas:\n",
    "    if qtde > valor:\n",
    "        vendedor = nome\n",
    "        valor = qtde\n",
    "\n",
    "print(vendedor)"
   ]
  }
 ],
 "metadata": {
  "kernelspec": {
   "display_name": "Python 3",
   "language": "python",
   "name": "python3"
  },
  "language_info": {
   "codemirror_mode": {
    "name": "ipython",
    "version": 3
   },
   "file_extension": ".py",
   "mimetype": "text/x-python",
   "name": "python",
   "nbconvert_exporter": "python",
   "pygments_lexer": "ipython3",
   "version": "3.12.2"
  }
 },
 "nbformat": 4,
 "nbformat_minor": 4
}
