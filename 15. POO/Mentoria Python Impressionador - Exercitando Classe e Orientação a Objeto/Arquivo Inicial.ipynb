{
 "cells": [
  {
   "cell_type": "markdown",
   "id": "72721608",
   "metadata": {},
   "source": [
    "### Criando classes"
   ]
  },
  {
   "cell_type": "code",
   "execution_count": null,
   "id": "43e865b8",
   "metadata": {},
   "outputs": [],
   "source": [
    "class MinhaClasse():\n",
    "    pass"
   ]
  },
  {
   "cell_type": "code",
   "execution_count": null,
   "id": "1ee70130",
   "metadata": {},
   "outputs": [],
   "source": [
    "class MinhaClasse():\n",
    "    def metodo():\n",
    "        pass"
   ]
  },
  {
   "cell_type": "code",
   "execution_count": null,
   "id": "2933ff80",
   "metadata": {},
   "outputs": [],
   "source": [
    "class MinhaClasse():\n",
    "    atributo = \"valor\"\n",
    "    def metodo():\n",
    "        pass"
   ]
  },
  {
   "cell_type": "code",
   "execution_count": null,
   "id": "3f6fdcc0",
   "metadata": {},
   "outputs": [],
   "source": [
    "class MinhaClasse():\n",
    "    def __init__(self):\n",
    "        self.atributo = \"valor\"\n",
    "    def metodo(self):\n",
    "        pass"
   ]
  },
  {
   "cell_type": "markdown",
   "id": "b51e29d9",
   "metadata": {},
   "source": [
    "### Exemplo simples"
   ]
  },
  {
   "cell_type": "code",
   "execution_count": null,
   "id": "cbe066ab",
   "metadata": {},
   "outputs": [],
   "source": [
    "class Vendedor():\n",
    "    \n",
    "    def __init__(self, nome_vendedor):\n",
    "        self.nome_vendedor = nome_vendedor\n",
    "        self.qtde_vendas = 0\n",
    "        self.meta = 500\n",
    "        self.bonus = 0\n",
    "\n",
    "    def adicionar_venda(self, valor):\n",
    "        self.qtde_vendas += valor\n",
    "        self.calcular_bonus()\n",
    "\n",
    "\n",
    "    def calcular_bonus(self):\n",
    "        if self.qtde_vendas > self.meta:\n",
    "            self.bonus = 30\n",
    "        else:\n",
    "            self.bonus = 0\n"
   ]
  },
  {
   "cell_type": "code",
   "execution_count": null,
   "id": "763e91e3",
   "metadata": {},
   "outputs": [],
   "source": [
    "\n",
    "ricardo = Vendedor('Ricardo Alves de Souza')\n",
    "ricardo.adicionar_venda(150)\n",
    "ricardo.adicionar_venda(189)\n",
    "ricardo.adicionar_venda(201)\n",
    "print(ricardo.bonus)\n",
    "\n",
    "kelly = Vendedor('Kelly dos Santos Bezerra')\n",
    "print(kelly.bonus)"
   ]
  },
  {
   "cell_type": "markdown",
   "id": "5cabe7c8",
   "metadata": {},
   "source": [
    "### Refatorando um código para POO"
   ]
  },
  {
   "cell_type": "code",
   "execution_count": null,
   "id": "fad537dc",
   "metadata": {},
   "outputs": [],
   "source": [
    "#!pip install pyautogui"
   ]
  },
  {
   "cell_type": "code",
   "execution_count": null,
   "id": "0bb40eb3",
   "metadata": {},
   "outputs": [],
   "source": [
    "import pyautogui\n",
    "import pyperclip\n",
    "import time\n",
    "\n",
    "class MeuRobo:\n",
    "\n",
    "    def __init__(self, tempo_espera):\n",
    "        self.tempo_espera = tempo_espera\n",
    "        pyautogui.PAUSE = 1\n",
    "\n",
    "    def abrir_navegador(self):\n",
    "        pyautogui.PAUSE = 1\n",
    "        pyautogui.press(\"win\")\n",
    "        pyautogui.write(\"chrome\")\n",
    "        pyautogui.press(\"enter\")\n",
    "        pyautogui.click(x=590, y=855)\n",
    "\n",
    "    def aguardar(self):\n",
    "        time.sleep(self.tempo_espera)\n",
    "\n",
    "    def entrar_site(self, link):\n",
    "        self.escrever_e_entrar(link)\n",
    "        self.aguardar()\n",
    "        \n",
    "    def escrever_e_entrar(self, texto):\n",
    "        pyperclip.copy(texto)\n",
    "        pyautogui.hotkey(\"ctrl\", \"v\")\n",
    "        pyautogui.press(\"enter\")\n",
    "        self.aguardar()\n",
    "\n",
    "    def clicar (self, x, y, lado_botao_mouse = 'left'):\n",
    "        pyautogui.click(x=x, y=y , button=lado_botao_mouse)\n",
    "\n",
    "    def pegar_posicao_mouse(slef):\n",
    "        for i in range(5):\n",
    "            print(f\"pegando posicao em {5 - i} segundos\")\n",
    "            time.sleep(1)\n",
    "        print(pyautogui.position())\n",
    "\n",
    "    def extrair_link(self, x, y):\n",
    "        self.clicar(x=x, y=y, lado_botao_mouse = 'right')\n",
    "        pyautogui.press(\"up\")\n",
    "        pyautogui.press(\"up\")\n",
    "        pyautogui.press(\"enter\")\n",
    "\n",
    "    def exibir_texto(self):\n",
    "        texto = pyperclip.paste()\n",
    "        print(texto)\n",
    "\n",
    "    def main(self):\n",
    "        meu_robo.abrir_navegador()\n",
    "        meu_robo.entrar_site(\"https://www.hashtagtreinamentos.com/blog\")\n",
    "        meu_robo.clicar(x=1374, y=507)\n",
    "        meu_robo.escrever_e_entrar('classe')\n",
    "        meu_robo.clicar(x=813, y=680)\n",
    "        meu_robo.aguardar()\n",
    "        meu_robo.extrair_link(x=464, y=608)\n",
    "        meu_robo.exibir_texto()\n",
    "    "
   ]
  },
  {
   "cell_type": "code",
   "execution_count": null,
   "id": "ccafd066",
   "metadata": {},
   "outputs": [],
   "source": [
    "meu_robo = MeuRobo(3)\n",
    "meu_robo.main()"
   ]
  },
  {
   "cell_type": "code",
   "execution_count": null,
   "id": "02a3b7ee",
   "metadata": {},
   "outputs": [],
   "source": [
    "meu_robo = MeuRobo(3)\n",
    "meu_robo.pegar_posicao_mouse()"
   ]
  },
  {
   "cell_type": "code",
   "execution_count": null,
   "id": "a5b01138",
   "metadata": {},
   "outputs": [],
   "source": [
    "import pyautogui\n",
    "import pyperclip\n",
    "import time\n",
    "\n",
    "# abrindo o chrome\n",
    "pyautogui.PAUSE = 1\n",
    "pyautogui.press(\"win\")\n",
    "pyautogui.write(\"chrome\")\n",
    "pyautogui.press(\"enter\")\n",
    "pyautogui.click(x=590, y=855)\n",
    "\n",
    "# entrando no site da hashtag\n",
    "link = \"https://www.hashtagtreinamentos.com/blog\"\n",
    "pyperclip.copy(link)\n",
    "pyautogui.hotkey(\"ctrl\", \"v\")\n",
    "pyautogui.press(\"enter\")\n",
    "\n",
    "# aguardar\n",
    "time.sleep(3)\n",
    "\n",
    "# clicando no campo de busca\n",
    "pyautogui.click(x=1508, y=585)\n",
    "\n",
    "# pesquisando campo de busca\n",
    "texto = \"classe\"\n",
    "pyperclip.copy(texto)\n",
    "pyautogui.hotkey(\"ctrl\", \"v\")\n",
    "pyautogui.press(\"enter\")\n",
    "\n",
    "# aguardar\n",
    "time.sleep(3)\n",
    "\n",
    "# clicar na imagem\n",
    "pyautogui.click(x=749, y=699)\n",
    "\n",
    "# aguardar\n",
    "time.sleep(3)\n",
    "\n",
    "# extrair o link\n",
    "pyautogui.click(x=471, y=636, button=\"right\")\n",
    "pyautogui.press(\"up\")\n",
    "pyautogui.press(\"up\")\n",
    "pyautogui.press(\"enter\")\n",
    "\n",
    "# printar o texto copiado\n",
    "texto = pyperclip.paste()\n",
    "print(texto)"
   ]
  },
  {
   "cell_type": "code",
   "execution_count": null,
   "id": "0bc6a26d",
   "metadata": {},
   "outputs": [],
   "source": [
    "import pyautogui\n",
    "import pyperclip\n",
    "import time\n",
    "\n",
    "# pegando a posicao de um elemento\n"
   ]
  },
  {
   "cell_type": "markdown",
   "id": "2aa65343",
   "metadata": {},
   "source": [
    "### Refatorando com classe"
   ]
  },
  {
   "cell_type": "code",
   "execution_count": null,
   "id": "92164d9a",
   "metadata": {},
   "outputs": [],
   "source": []
  }
 ],
 "metadata": {
  "kernelspec": {
   "display_name": "Python 3 (ipykernel)",
   "language": "python",
   "name": "python3"
  },
  "language_info": {
   "codemirror_mode": {
    "name": "ipython",
    "version": 3
   },
   "file_extension": ".py",
   "mimetype": "text/x-python",
   "name": "python",
   "nbconvert_exporter": "python",
   "pygments_lexer": "ipython3",
   "version": "3.12.2"
  }
 },
 "nbformat": 4,
 "nbformat_minor": 5
}
