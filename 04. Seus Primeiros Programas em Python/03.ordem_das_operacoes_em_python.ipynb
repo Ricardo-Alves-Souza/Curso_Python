{
 "cells": [
  {
   "cell_type": "markdown",
   "metadata": {},
   "source": [
    "# Ordem de Precedência"
   ]
  },
  {
   "cell_type": "markdown",
   "metadata": {},
   "source": [
    "1° - Parênteses = ()\n",
    "\n",
    "2° - Potenciação = **\n",
    "\n",
    "3° - Multiplicação, Divisão e Resto da divisão = *, /, %\n",
    "\n",
    "4° - Adição e Subtração = + - "
   ]
  },
  {
   "cell_type": "code",
   "execution_count": null,
   "metadata": {},
   "outputs": [],
   "source": [
    "# Errado\n",
    "print(1 + 2 * 3)"
   ]
  },
  {
   "cell_type": "code",
   "execution_count": null,
   "metadata": {},
   "outputs": [],
   "source": [
    "# Certo\n",
    "print((1 + 2) * 3)"
   ]
  }
 ],
 "metadata": {
  "kernelspec": {
   "display_name": "Python 3",
   "language": "python",
   "name": "python3"
  },
  "language_info": {
   "codemirror_mode": {
    "name": "ipython",
    "version": 3
   },
   "file_extension": ".py",
   "mimetype": "text/x-python",
   "name": "python",
   "nbconvert_exporter": "python",
   "pygments_lexer": "ipython3",
   "version": "3.12.2"
  }
 },
 "nbformat": 4,
 "nbformat_minor": 2
}
