{
 "cells": [
  {
   "cell_type": "markdown",
   "metadata": {},
   "source": [
    "lista  = r  i  c  a  r  d  o  @  g  m  a  i  l  .  c  o  m\n",
    "\n",
    "índice = 0  1  2  3  4  5  6  7  8  9  10 11 12 13 14 15 16"
   ]
  },
  {
   "cell_type": "markdown",
   "metadata": {},
   "source": [
    "Pegar um item de uma string: texto[índice]"
   ]
  },
  {
   "cell_type": "code",
   "execution_count": null,
   "metadata": {},
   "outputs": [],
   "source": [
    "email = 'ricardo@gmail.com'\n",
    "\n",
    "# Pegando o @\n",
    "print(email[7])"
   ]
  },
  {
   "cell_type": "markdown",
   "metadata": {},
   "source": [
    "Pegar o tamanho de um texto: len(texto)"
   ]
  },
  {
   "cell_type": "code",
   "execution_count": null,
   "metadata": {},
   "outputs": [],
   "source": [
    "email = 'ricardo@gmail.com'\n",
    "nome = 'Ricardo'\n",
    "\n",
    "print(f'O e-mail tem {len(email)} caracteres.')\n",
    "print(f'O nome tem {len(nome)} caracteres.')"
   ]
  },
  {
   "cell_type": "markdown",
   "metadata": {},
   "source": [
    "\n",
    "Índice negativo\n",
    "\n",
    "\n",
    "lista  =   r   i   c   a   r   d   o   @   g   m   a   i   l   .   c   o   m\n",
    "\n",
    "indice =  -17 -16 -15 -14 -13 -12 -11 -10 -9  -8  -7  -6  -5  -4  -3  -2  -1"
   ]
  },
  {
   "cell_type": "markdown",
   "metadata": {},
   "source": [
    "Para pegar um texto de trás para frente: texto[índice] -> onde índice é negativo"
   ]
  },
  {
   "cell_type": "code",
   "execution_count": null,
   "metadata": {},
   "outputs": [],
   "source": [
    "email = 'ricardo@gmail.com'\n",
    "\n",
    "# pegar o ultimo caracter \n",
    "print(email[-1])\n",
    "\n",
    "# Pegar o antepenúltimo caracter\n",
    "print(email[-17])"
   ]
  },
  {
   "cell_type": "markdown",
   "metadata": {},
   "source": [
    "Para pegar o pedaço de um texto use : (dois pontos). texto[:índice] ou texto[índice:] ou ainda texto[índice:índice] "
   ]
  },
  {
   "cell_type": "code",
   "execution_count": null,
   "metadata": {},
   "outputs": [],
   "source": [
    "email = 'ricardo@gmail.com'\n",
    "\n",
    "# Pegar texto antes do @\n",
    "print(email[:7])\n",
    "# Pegar texto apartir do @\n",
    "print(email[7:])\n",
    "# Pegar apenas o gmail\n",
    "print(email[8:-4])"
   ]
  }
 ],
 "metadata": {
  "kernelspec": {
   "display_name": "Python 3",
   "language": "python",
   "name": "python3"
  },
  "language_info": {
   "codemirror_mode": {
    "name": "ipython",
    "version": 3
   },
   "file_extension": ".py",
   "mimetype": "text/x-python",
   "name": "python",
   "nbconvert_exporter": "python",
   "pygments_lexer": "ipython3",
   "version": "3.12.2"
  }
 },
 "nbformat": 4,
 "nbformat_minor": 2
}
