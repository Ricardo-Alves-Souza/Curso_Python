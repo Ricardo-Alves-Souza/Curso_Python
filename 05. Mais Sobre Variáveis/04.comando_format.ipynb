{
 "cells": [
  {
   "cell_type": "markdown",
   "metadata": {},
   "source": [
    "Forma que fizemos na última aula (concatenando textos)"
   ]
  },
  {
   "cell_type": "code",
   "execution_count": null,
   "metadata": {},
   "outputs": [],
   "source": [
    "faturamento = 2000\n",
    "custos = 500\n",
    "lucro = faturamento - custos\n",
    "\n",
    "print('O faturamento da loja foi ' + str(faturamento) + ' .O custo da loja foi ' + str(custos) + ' .O lucro da loja foi ' + str(lucro))\n",
    "print('O faturamento da loja foi', faturamento, '.O custo da loja foi', custos, '.O lucro da loja foi', lucro)"
   ]
  },
  {
   "cell_type": "markdown",
   "metadata": {},
   "source": [
    "Método Format"
   ]
  },
  {
   "cell_type": "code",
   "execution_count": null,
   "metadata": {},
   "outputs": [],
   "source": [
    "faturamento = 2000\n",
    "custos = 500\n",
    "lucro = faturamento - custos\n",
    "\n",
    "print('O faturamento foi R${}. O custo foi R${}. O lucro foi R${}.'.format(faturamento, custos, lucro))"
   ]
  },
  {
   "cell_type": "markdown",
   "metadata": {},
   "source": [
    "Método F-string"
   ]
  },
  {
   "cell_type": "code",
   "execution_count": null,
   "metadata": {},
   "outputs": [],
   "source": [
    "faturamento = 2000\n",
    "custos = 500\n",
    "lucro = faturamento - custos\n",
    "\n",
    "print(f'O faturamento foi R${faturamento}. O custo foi R${custos}. O lucro foi R${faturamento - custos}.')"
   ]
  },
  {
   "cell_type": "markdown",
   "metadata": {},
   "source": [
    "### Mudança de tipo de variável"
   ]
  },
  {
   "cell_type": "markdown",
   "metadata": {},
   "source": [
    "A linha abaixo ira dar erro, pois o programa reconhece as variáveis como str, e não int"
   ]
  },
  {
   "cell_type": "code",
   "execution_count": null,
   "metadata": {},
   "outputs": [],
   "source": [
    "faturamento = input('Insira o faturamento: ')\n",
    "custo = input('Insira o custo: ')\n",
    "\n",
    "#print(type(faturamento), type(custo))\n",
    "\n",
    "lucro = faturamento - custo\n",
    "print(lucro)"
   ]
  },
  {
   "cell_type": "markdown",
   "metadata": {},
   "source": [
    " * str - muda para String\n",
    " * int - muda para inteiro\n",
    " * float - muda para números com casas decimais"
   ]
  },
  {
   "cell_type": "code",
   "execution_count": null,
   "metadata": {},
   "outputs": [],
   "source": [
    "faturamento = int(input('Insira o faturamento: '))\n",
    "custo = (input('Insira o custo: '))\n",
    "\n",
    "lucro = faturamento - custo\n",
    "print(lucro)"
   ]
  }
 ],
 "metadata": {
  "kernelspec": {
   "display_name": "Python 3",
   "language": "python",
   "name": "python3"
  },
  "language_info": {
   "codemirror_mode": {
    "name": "ipython",
    "version": 3
   },
   "file_extension": ".py",
   "mimetype": "text/x-python",
   "name": "python",
   "nbconvert_exporter": "python",
   "pygments_lexer": "ipython3",
   "version": "3.12.2"
  }
 },
 "nbformat": 4,
 "nbformat_minor": 2
}
